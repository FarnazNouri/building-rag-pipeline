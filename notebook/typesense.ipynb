{
 "cells": [
  {
   "cell_type": "markdown",
   "id": "b3901212",
   "metadata": {},
   "source": [
    "# RAG Application Using Type Sense"
   ]
  },
  {
   "cell_type": "code",
   "execution_count": 2,
   "id": "41fd9c36",
   "metadata": {},
   "outputs": [],
   "source": [
    "import typesense\n",
    "from dotenv import load_dotenv\n",
    "import os\n",
    "\n",
    "\n",
    "# Load environment variables from .env file\n",
    "load_dotenv()\n",
    "\n",
    "# Get the API key from environment variables\n",
    "typesense_api_key = os.getenv(\"TYPESENSE_API_KEY\")\n",
    "\n"
   ]
  },
  {
   "cell_type": "code",
   "execution_count": 14,
   "id": "b8cd5b8e",
   "metadata": {},
   "outputs": [
    {
     "name": "stdout",
     "output_type": "stream",
     "text": [
      "{'created_at': 1760031446, 'default_sorting_field': 'ratings_count', 'enable_nested_fields': False, 'fields': [{'facet': False, 'index': True, 'infix': False, 'locale': '', 'name': 'title', 'optional': False, 'sort': False, 'stem': False, 'stem_dictionary': '', 'store': True, 'type': 'string'}, {'facet': True, 'index': True, 'infix': False, 'locale': '', 'name': 'authors', 'optional': False, 'sort': False, 'stem': False, 'stem_dictionary': '', 'store': True, 'type': 'string[]'}, {'facet': True, 'index': True, 'infix': False, 'locale': '', 'name': 'publication_year', 'optional': False, 'sort': True, 'stem': False, 'stem_dictionary': '', 'store': True, 'type': 'int32'}, {'facet': False, 'index': True, 'infix': False, 'locale': '', 'name': 'ratings_count', 'optional': False, 'sort': True, 'stem': False, 'stem_dictionary': '', 'store': True, 'type': 'int32'}, {'facet': False, 'index': True, 'infix': False, 'locale': '', 'name': 'average_rating', 'optional': False, 'sort': True, 'stem': False, 'stem_dictionary': '', 'store': True, 'type': 'float'}], 'name': 'books', 'num_documents': 0, 'symbols_to_index': [], 'token_separators': []}\n"
     ]
    }
   ],
   "source": [
    "client = typesense.Client({\n",
    "    'nodes': [{\n",
    "        'host': 'birm815qe3acvnkgp-1.a1.typesense.net',\n",
    "        'port': '443',\n",
    "        'protocol': 'https'\n",
    "    }],\n",
    "    'api_key':typesense_api_key,\n",
    "    'connection_timeout_seconds': 2\n",
    "})\n",
    "\n",
    "\n",
    "# Create the schema\n",
    "books_schema = {\n",
    "    'name' : 'books',\n",
    "    'fields': [\n",
    "        {'name': 'title', 'type': 'string'},\n",
    "        {'name': 'authors', 'type': 'string[]', 'facet': True},\n",
    "        {'name': 'publication_year', 'type': 'int32', 'facet': True},\n",
    "        {'name': 'ratings_count', 'type': 'int32'},\n",
    "        {'name': 'average_rating', 'type': 'float'},\n",
    "    ],\n",
    "    'default_sorting_field': 'ratings_count'\n",
    "}\n",
    "\n",
    "print(client.collections.create(books_schema))"
   ]
  },
  {
   "cell_type": "code",
   "execution_count": 6,
   "id": "09a81247",
   "metadata": {},
   "outputs": [
    {
     "data": {
      "text/plain": [
       "<typesense.client.Client at 0x1122f2450>"
      ]
     },
     "execution_count": 6,
     "metadata": {},
     "output_type": "execute_result"
    }
   ],
   "source": [
    "client"
   ]
  },
  {
   "cell_type": "code",
   "execution_count": null,
   "id": "51353693",
   "metadata": {},
   "outputs": [],
   "source": [
    "with open('../data/books.jsonl', 'r', encoding='utf-8') as jsonl_file:\n",
    "    data = jsonl_file.read()\n",
    "    client.collections['books'].documents.import_(data)\n",
    "\n"
   ]
  },
  {
   "cell_type": "code",
   "execution_count": 16,
   "id": "eca23e3e",
   "metadata": {},
   "outputs": [
    {
     "data": {
      "text/plain": [
       "{'facet_counts': [],\n",
       " 'found': 17,\n",
       " 'hits': [{'document': {'authors': ['J.K. Rowling', ' Mary GrandPré'],\n",
       "    'average_rating': 4.44,\n",
       "    'id': '2',\n",
       "    'image_url': 'https://images.gr-assets.com/books/1474154022m/3.jpg',\n",
       "    'publication_year': 1997,\n",
       "    'ratings_count': 4602479,\n",
       "    'title': \"Harry Potter and the Philosopher's Stone\"},\n",
       "   'highlight': {'title': {'matched_tokens': ['Harry', 'Potter'],\n",
       "     'snippet': \"<mark>Harry</mark> <mark>Potter</mark> and the Philosopher's Stone\"}},\n",
       "   'highlights': [{'field': 'title',\n",
       "     'matched_tokens': ['Harry', 'Potter'],\n",
       "     'snippet': \"<mark>Harry</mark> <mark>Potter</mark> and the Philosopher's Stone\"}],\n",
       "   'text_match': 1157451471441100921,\n",
       "   'text_match_info': {'best_field_score': '2211897868288',\n",
       "    'best_field_weight': 15,\n",
       "    'fields_matched': 1,\n",
       "    'num_tokens_dropped': 0,\n",
       "    'score': '1157451471441100921',\n",
       "    'tokens_matched': 2,\n",
       "    'typo_prefix_score': 0}},\n",
       "  {'document': {'authors': ['J.K. Rowling', ' Mary GrandPré', ' Rufus Beck'],\n",
       "    'average_rating': 4.53,\n",
       "    'id': '18',\n",
       "    'image_url': 'https://images.gr-assets.com/books/1499277281m/5.jpg',\n",
       "    'publication_year': 1999,\n",
       "    'ratings_count': 1832823,\n",
       "    'title': 'Harry Potter and the Prisoner of Azkaban'},\n",
       "   'highlight': {'title': {'matched_tokens': ['Harry', 'Potter'],\n",
       "     'snippet': '<mark>Harry</mark> <mark>Potter</mark> and the Prisoner of Azkaban'}},\n",
       "   'highlights': [{'field': 'title',\n",
       "     'matched_tokens': ['Harry', 'Potter'],\n",
       "     'snippet': '<mark>Harry</mark> <mark>Potter</mark> and the Prisoner of Azkaban'}],\n",
       "   'text_match': 1157451471441100921,\n",
       "   'text_match_info': {'best_field_score': '2211897868288',\n",
       "    'best_field_weight': 15,\n",
       "    'fields_matched': 1,\n",
       "    'num_tokens_dropped': 0,\n",
       "    'score': '1157451471441100921',\n",
       "    'tokens_matched': 2,\n",
       "    'typo_prefix_score': 0}},\n",
       "  {'document': {'authors': ['J.K. Rowling', ' Mary GrandPré'],\n",
       "    'average_rating': 4.37,\n",
       "    'id': '23',\n",
       "    'image_url': 'https://images.gr-assets.com/books/1474169725m/15881.jpg',\n",
       "    'publication_year': 1998,\n",
       "    'ratings_count': 1779331,\n",
       "    'title': 'Harry Potter and the Chamber of Secrets'},\n",
       "   'highlight': {'title': {'matched_tokens': ['Harry', 'Potter'],\n",
       "     'snippet': '<mark>Harry</mark> <mark>Potter</mark> and the Chamber of Secrets'}},\n",
       "   'highlights': [{'field': 'title',\n",
       "     'matched_tokens': ['Harry', 'Potter'],\n",
       "     'snippet': '<mark>Harry</mark> <mark>Potter</mark> and the Chamber of Secrets'}],\n",
       "   'text_match': 1157451471441100921,\n",
       "   'text_match_info': {'best_field_score': '2211897868288',\n",
       "    'best_field_weight': 15,\n",
       "    'fields_matched': 1,\n",
       "    'num_tokens_dropped': 0,\n",
       "    'score': '1157451471441100921',\n",
       "    'tokens_matched': 2,\n",
       "    'typo_prefix_score': 0}},\n",
       "  {'document': {'authors': ['J.K. Rowling', ' Mary GrandPré'],\n",
       "    'average_rating': 4.53,\n",
       "    'id': '24',\n",
       "    'image_url': 'https://images.gr-assets.com/books/1361482611m/6.jpg',\n",
       "    'publication_year': 2000,\n",
       "    'ratings_count': 1753043,\n",
       "    'title': 'Harry Potter and the Goblet of Fire'},\n",
       "   'highlight': {'title': {'matched_tokens': ['Harry', 'Potter'],\n",
       "     'snippet': '<mark>Harry</mark> <mark>Potter</mark> and the Goblet of Fire'}},\n",
       "   'highlights': [{'field': 'title',\n",
       "     'matched_tokens': ['Harry', 'Potter'],\n",
       "     'snippet': '<mark>Harry</mark> <mark>Potter</mark> and the Goblet of Fire'}],\n",
       "   'text_match': 1157451471441100921,\n",
       "   'text_match_info': {'best_field_score': '2211897868288',\n",
       "    'best_field_weight': 15,\n",
       "    'fields_matched': 1,\n",
       "    'num_tokens_dropped': 0,\n",
       "    'score': '1157451471441100921',\n",
       "    'tokens_matched': 2,\n",
       "    'typo_prefix_score': 0}},\n",
       "  {'document': {'authors': ['J.K. Rowling', ' Mary GrandPré'],\n",
       "    'average_rating': 4.61,\n",
       "    'id': '25',\n",
       "    'image_url': 'https://images.gr-assets.com/books/1474171184m/136251.jpg',\n",
       "    'publication_year': 2007,\n",
       "    'ratings_count': 1746574,\n",
       "    'title': 'Harry Potter and the Deathly Hallows'},\n",
       "   'highlight': {'title': {'matched_tokens': ['Harry', 'Potter'],\n",
       "     'snippet': '<mark>Harry</mark> <mark>Potter</mark> and the Deathly Hallows'}},\n",
       "   'highlights': [{'field': 'title',\n",
       "     'matched_tokens': ['Harry', 'Potter'],\n",
       "     'snippet': '<mark>Harry</mark> <mark>Potter</mark> and the Deathly Hallows'}],\n",
       "   'text_match': 1157451471441100921,\n",
       "   'text_match_info': {'best_field_score': '2211897868288',\n",
       "    'best_field_weight': 15,\n",
       "    'fields_matched': 1,\n",
       "    'num_tokens_dropped': 0,\n",
       "    'score': '1157451471441100921',\n",
       "    'tokens_matched': 2,\n",
       "    'typo_prefix_score': 0}},\n",
       "  {'document': {'authors': ['J.K. Rowling', ' Mary GrandPré'],\n",
       "    'average_rating': 4.46,\n",
       "    'id': '21',\n",
       "    'image_url': 'https://images.gr-assets.com/books/1387141547m/2.jpg',\n",
       "    'publication_year': 2003,\n",
       "    'ratings_count': 1735368,\n",
       "    'title': 'Harry Potter and the Order of the Phoenix'},\n",
       "   'highlight': {'title': {'matched_tokens': ['Harry', 'Potter'],\n",
       "     'snippet': '<mark>Harry</mark> <mark>Potter</mark> and the Order of the Phoenix'}},\n",
       "   'highlights': [{'field': 'title',\n",
       "     'matched_tokens': ['Harry', 'Potter'],\n",
       "     'snippet': '<mark>Harry</mark> <mark>Potter</mark> and the Order of the Phoenix'}],\n",
       "   'text_match': 1157451471441100921,\n",
       "   'text_match_info': {'best_field_score': '2211897868288',\n",
       "    'best_field_weight': 15,\n",
       "    'fields_matched': 1,\n",
       "    'num_tokens_dropped': 0,\n",
       "    'score': '1157451471441100921',\n",
       "    'tokens_matched': 2,\n",
       "    'typo_prefix_score': 0}},\n",
       "  {'document': {'authors': ['J.K. Rowling', ' Mary GrandPré'],\n",
       "    'average_rating': 4.54,\n",
       "    'id': '27',\n",
       "    'image_url': 'https://images.gr-assets.com/books/1361039191m/1.jpg',\n",
       "    'publication_year': 2005,\n",
       "    'ratings_count': 1678823,\n",
       "    'title': 'Harry Potter and the Half-Blood Prince'},\n",
       "   'highlight': {'title': {'matched_tokens': ['Harry', 'Potter'],\n",
       "     'snippet': '<mark>Harry</mark> <mark>Potter</mark> and the Half-Blood Prince'}},\n",
       "   'highlights': [{'field': 'title',\n",
       "     'matched_tokens': ['Harry', 'Potter'],\n",
       "     'snippet': '<mark>Harry</mark> <mark>Potter</mark> and the Half-Blood Prince'}],\n",
       "   'text_match': 1157451471441100921,\n",
       "   'text_match_info': {'best_field_score': '2211897868288',\n",
       "    'best_field_weight': 15,\n",
       "    'fields_matched': 1,\n",
       "    'num_tokens_dropped': 0,\n",
       "    'score': '1157451471441100921',\n",
       "    'tokens_matched': 2,\n",
       "    'typo_prefix_score': 0}},\n",
       "  {'document': {'authors': ['John Tiffany', ' Jack Thorne', ' J.K. Rowling'],\n",
       "    'average_rating': 3.75,\n",
       "    'id': '279',\n",
       "    'image_url': 'https://images.gr-assets.com/books/1470082995m/29056083.jpg',\n",
       "    'publication_year': 2016,\n",
       "    'ratings_count': 270603,\n",
       "    'title': 'Harry Potter and the Cursed Child, Parts One and Two'},\n",
       "   'highlight': {'title': {'matched_tokens': ['Harry', 'Potter'],\n",
       "     'snippet': '<mark>Harry</mark> <mark>Potter</mark> and the Cursed Child, Parts One and Two'}},\n",
       "   'highlights': [{'field': 'title',\n",
       "     'matched_tokens': ['Harry', 'Potter'],\n",
       "     'snippet': '<mark>Harry</mark> <mark>Potter</mark> and the Cursed Child, Parts One and Two'}],\n",
       "   'text_match': 1157451471441100921,\n",
       "   'text_match_info': {'best_field_score': '2211897868288',\n",
       "    'best_field_weight': 15,\n",
       "    'fields_matched': 1,\n",
       "    'num_tokens_dropped': 0,\n",
       "    'score': '1157451471441100921',\n",
       "    'tokens_matched': 2,\n",
       "    'typo_prefix_score': 0}},\n",
       "  {'document': {'authors': ['J.K. Rowling'],\n",
       "    'average_rating': 4.74,\n",
       "    'id': '422',\n",
       "    'image_url': 'https://images.gr-assets.com/books/1392579059m/862041.jpg',\n",
       "    'publication_year': 1998,\n",
       "    'ratings_count': 190050,\n",
       "    'title': 'Complete Harry Potter Boxed Set'},\n",
       "   'highlight': {'title': {'matched_tokens': ['Harry', 'Potter'],\n",
       "     'snippet': 'Complete <mark>Harry</mark> <mark>Potter</mark> Boxed Set'}},\n",
       "   'highlights': [{'field': 'title',\n",
       "     'matched_tokens': ['Harry', 'Potter'],\n",
       "     'snippet': 'Complete <mark>Harry</mark> <mark>Potter</mark> Boxed Set'}],\n",
       "   'text_match': 1157451471441100921,\n",
       "   'text_match_info': {'best_field_score': '2211897868288',\n",
       "    'best_field_weight': 15,\n",
       "    'fields_matched': 1,\n",
       "    'num_tokens_dropped': 0,\n",
       "    'score': '1157451471441100921',\n",
       "    'tokens_matched': 2,\n",
       "    'typo_prefix_score': 0}},\n",
       "  {'document': {'authors': ['Brian Sibley'],\n",
       "    'average_rating': 4.48,\n",
       "    'id': '2001',\n",
       "    'image_url': 'https://images.gr-assets.com/books/1464452934m/7952502.jpg',\n",
       "    'publication_year': 2010,\n",
       "    'ratings_count': 45081,\n",
       "    'title': 'Harry Potter: Film Wizardry'},\n",
       "   'highlight': {'title': {'matched_tokens': ['Harry', 'Potter'],\n",
       "     'snippet': '<mark>Harry</mark> <mark>Potter</mark>: Film Wizardry'}},\n",
       "   'highlights': [{'field': 'title',\n",
       "     'matched_tokens': ['Harry', 'Potter'],\n",
       "     'snippet': '<mark>Harry</mark> <mark>Potter</mark>: Film Wizardry'}],\n",
       "   'text_match': 1157451471441100921,\n",
       "   'text_match_info': {'best_field_score': '2211897868288',\n",
       "    'best_field_weight': 15,\n",
       "    'fields_matched': 1,\n",
       "    'num_tokens_dropped': 0,\n",
       "    'score': '1157451471441100921',\n",
       "    'tokens_matched': 2,\n",
       "    'typo_prefix_score': 0}}],\n",
       " 'out_of': 9979,\n",
       " 'page': 1,\n",
       " 'request_params': {'collection_name': 'books',\n",
       "  'first_q': 'harry potter',\n",
       "  'per_page': 10,\n",
       "  'q': 'harry potter'},\n",
       " 'search_cutoff': False,\n",
       " 'search_time_ms': 3}"
      ]
     },
     "execution_count": 16,
     "metadata": {},
     "output_type": "execute_result"
    }
   ],
   "source": [
    "search_parameters = {\n",
    "    'q':'harry potter',\n",
    "    'query_by': 'title, authors',\n",
    "    'sort_by': 'ratings_count:desc'\n",
    "}\n",
    "client.collections['books'].documents.search(search_parameters)"
   ]
  },
  {
   "cell_type": "code",
   "execution_count": 18,
   "id": "6295a878",
   "metadata": {},
   "outputs": [
    {
     "data": {
      "text/plain": [
       "{'facet_counts': [],\n",
       " 'found': 1,\n",
       " 'hits': [{'document': {'authors': ['J.K. Rowling', ' Mary GrandPré'],\n",
       "    'average_rating': 4.44,\n",
       "    'id': '2',\n",
       "    'image_url': 'https://images.gr-assets.com/books/1474154022m/3.jpg',\n",
       "    'publication_year': 1997,\n",
       "    'ratings_count': 4602479,\n",
       "    'title': \"Harry Potter and the Philosopher's Stone\"},\n",
       "   'highlight': {'title': {'matched_tokens': ['Harry', 'Potter'],\n",
       "     'snippet': \"<mark>Harry</mark> <mark>Potter</mark> and the Philosopher's Stone\"}},\n",
       "   'highlights': [{'field': 'title',\n",
       "     'matched_tokens': ['Harry', 'Potter'],\n",
       "     'snippet': \"<mark>Harry</mark> <mark>Potter</mark> and the Philosopher's Stone\"}],\n",
       "   'text_match': 1157451471441100921,\n",
       "   'text_match_info': {'best_field_score': '2211897868288',\n",
       "    'best_field_weight': 15,\n",
       "    'fields_matched': 1,\n",
       "    'num_tokens_dropped': 0,\n",
       "    'score': '1157451471441100921',\n",
       "    'tokens_matched': 2,\n",
       "    'typo_prefix_score': 0}}],\n",
       " 'out_of': 9979,\n",
       " 'page': 1,\n",
       " 'request_params': {'collection_name': 'books',\n",
       "  'first_q': 'harry potter',\n",
       "  'per_page': 10,\n",
       "  'q': 'harry potter'},\n",
       " 'search_cutoff': False,\n",
       " 'search_time_ms': 2}"
      ]
     },
     "execution_count": 18,
     "metadata": {},
     "output_type": "execute_result"
    }
   ],
   "source": [
    "search_parameters = {\n",
    "    'q':'harry potter',\n",
    "    'query_by': 'title, authors',\n",
    "    'filter_by': 'publication_year:<1998',\n",
    "    'sort_by': 'ratings_count:desc'\n",
    "}\n",
    "client.collections['books'].documents.search(search_parameters)"
   ]
  },
  {
   "cell_type": "code",
   "execution_count": 19,
   "id": "b5a3302e",
   "metadata": {},
   "outputs": [
    {
     "data": {
      "text/plain": [
       "{'facet_counts': [{'counts': [{'count': 1,\n",
       "     'highlighted': ' Käthe Mazur',\n",
       "     'value': ' Käthe Mazur'},\n",
       "    {'count': 1, 'highlighted': 'Mahatma Gandhi', 'value': 'Mahatma Gandhi'},\n",
       "    {'count': 1, 'highlighted': 'Gretchen Rubin', 'value': 'Gretchen Rubin'},\n",
       "    {'count': 1,\n",
       "     'highlighted': 'James Patterson',\n",
       "     'value': 'James Patterson'}],\n",
       "   'field_name': 'authors',\n",
       "   'sampled': False,\n",
       "   'stats': {'total_values': 4}}],\n",
       " 'found': 3,\n",
       " 'hits': [{'document': {'authors': ['James Patterson'],\n",
       "    'average_rating': 4.08,\n",
       "    'id': '569',\n",
       "    'image_url': 'https://images.gr-assets.com/books/1339277875m/13152.jpg',\n",
       "    'publication_year': 2005,\n",
       "    'ratings_count': 172302,\n",
       "    'title': 'The Angel Experiment'},\n",
       "   'highlight': {'title': {'matched_tokens': ['Experiment'],\n",
       "     'snippet': 'The Angel <mark>Experiment</mark>'}},\n",
       "   'highlights': [{'field': 'title',\n",
       "     'matched_tokens': ['Experiment'],\n",
       "     'snippet': 'The Angel <mark>Experiment</mark>'}],\n",
       "   'text_match': 578730054645710969,\n",
       "   'text_match_info': {'best_field_score': '1108057784320',\n",
       "    'best_field_weight': 15,\n",
       "    'fields_matched': 1,\n",
       "    'num_tokens_dropped': 0,\n",
       "    'score': '578730054645710969',\n",
       "    'tokens_matched': 1,\n",
       "    'typo_prefix_score': 2}},\n",
       "  {'document': {'authors': ['Mahatma Gandhi'],\n",
       "    'average_rating': 4.07,\n",
       "    'id': '2649',\n",
       "    'image_url': 'https://images.gr-assets.com/books/1320560971m/112803.jpg',\n",
       "    'publication_year': 1940,\n",
       "    'ratings_count': 28177,\n",
       "    'title': 'An Autobiography or The Story of My Experiments with Truth'},\n",
       "   'highlight': {'title': {'matched_tokens': ['Experiments'],\n",
       "     'snippet': 'An Autobiography or The Story of My <mark>Experiments</mark> with Truth'}},\n",
       "   'highlights': [{'field': 'title',\n",
       "     'matched_tokens': ['Experiments'],\n",
       "     'snippet': 'An Autobiography or The Story of My <mark>Experiments</mark> with Truth'}],\n",
       "   'text_match': 578730054645710969,\n",
       "   'text_match_info': {'best_field_score': '1108057784320',\n",
       "    'best_field_weight': 15,\n",
       "    'fields_matched': 1,\n",
       "    'num_tokens_dropped': 0,\n",
       "    'score': '578730054645710969',\n",
       "    'tokens_matched': 1,\n",
       "    'typo_prefix_score': 2}},\n",
       "  {'document': {'authors': ['Gretchen Rubin', ' Käthe Mazur'],\n",
       "    'average_rating': 3.48,\n",
       "    'id': '9718',\n",
       "    'image_url': 'https://images.gr-assets.com/books/1344014249m/13414599.jpg',\n",
       "    'publication_year': 2012,\n",
       "    'ratings_count': 6058,\n",
       "    'title': 'Happier at Home: Kiss More, Jump More, Abandon a Project, Read Samuel Johnson, and My Other Experiments in the Practice of Everyday Life'},\n",
       "   'highlight': {'title': {'matched_tokens': ['Experiments'],\n",
       "     'snippet': 'Happier at Home: Kiss More, Jump More, Abandon a Project, Read Samuel Johnson, and My Other <mark>Experiments</mark> in the Practice of Everyday Life'}},\n",
       "   'highlights': [{'field': 'title',\n",
       "     'matched_tokens': ['Experiments'],\n",
       "     'snippet': 'Happier at Home: Kiss More, Jump More, Abandon a Project, Read Samuel Johnson, and My Other <mark>Experiments</mark> in the Practice of Everyday Life'}],\n",
       "   'text_match': 578730054645710969,\n",
       "   'text_match_info': {'best_field_score': '1108057784320',\n",
       "    'best_field_weight': 15,\n",
       "    'fields_matched': 1,\n",
       "    'num_tokens_dropped': 0,\n",
       "    'score': '578730054645710969',\n",
       "    'tokens_matched': 1,\n",
       "    'typo_prefix_score': 2}}],\n",
       " 'out_of': 9979,\n",
       " 'page': 1,\n",
       " 'request_params': {'collection_name': 'books',\n",
       "  'first_q': '',\n",
       "  'per_page': 10,\n",
       "  'q': 'experyment'},\n",
       " 'search_cutoff': False,\n",
       " 'search_time_ms': 2}"
      ]
     },
     "execution_count": 19,
     "metadata": {},
     "output_type": "execute_result"
    }
   ],
   "source": [
    "search_parameters = {\n",
    "    'q':'experyment',\n",
    "    'query_by': 'title',\n",
    "    'facet_by':'authors',\n",
    "    'sort_by': 'ratings_count:desc'\n",
    "}\n",
    "client.collections['books'].documents.search(search_parameters)"
   ]
  },
  {
   "cell_type": "code",
   "execution_count": 20,
   "id": "05a890d4",
   "metadata": {},
   "outputs": [],
   "source": [
    "# Langchain + Typesense + Groq LLm + RAG Application\n",
    "from langchain_community.document_loaders import TextLoader\n",
    "from langchain_community.vectorstores import Typesense\n",
    "from langchain_text_splitters import CharacterTextSplitter\n",
    "from langchain.embeddings import HuggingFaceBgeEmbeddings\n",
    "from langchain_groq import ChatGroq\n"
   ]
  },
  {
   "cell_type": "code",
   "execution_count": 24,
   "id": "2df1da84",
   "metadata": {},
   "outputs": [
    {
     "name": "stderr",
     "output_type": "stream",
     "text": [
      "/var/folders/cb/wt_37x7s2wj4fzg6189hcrxw0000gn/T/ipykernel_28752/4280073041.py:12: LangChainDeprecationWarning: The class `HuggingFaceBgeEmbeddings` was deprecated in LangChain 0.2.2 and will be removed in 1.0. An updated version of the class exists in the :class:`~langchain-huggingface package and should be used instead. To use it run `pip install -U :class:`~langchain-huggingface` and import as `from :class:`~langchain_huggingface import HuggingFaceEmbeddings``.\n",
      "  embeddings = HuggingFaceBgeEmbeddings()\n",
      "/var/folders/cb/wt_37x7s2wj4fzg6189hcrxw0000gn/T/ipykernel_28752/4280073041.py:12: LangChainDeprecationWarning: Default values for HuggingFaceBgeEmbeddings.model_name were deprecated in LangChain 0.2.5 and will be removed in 0.4.0. Explicitly pass a model_name to the HuggingFaceBgeEmbeddings constructor instead.\n",
      "  embeddings = HuggingFaceBgeEmbeddings()\n"
     ]
    }
   ],
   "source": [
    "import os\n",
    "from dotenv import load_dotenv\n",
    "load_dotenv()\n",
    "\n",
    "# Get the API key from environment variables\n",
    "groq_api_key = os.getenv(\"GROQ_API_KEY\")\n",
    "\n",
    "loader = TextLoader('../data/test.txt')\n",
    "documents = loader.load()\n",
    "text_splitter = CharacterTextSplitter(chunk_size=1000, chunk_overlap=100)\n",
    "docs = text_splitter.split_documents(documents)\n",
    "embeddings = HuggingFaceBgeEmbeddings()"
   ]
  },
  {
   "cell_type": "code",
   "execution_count": 31,
   "id": "c1b537e1",
   "metadata": {},
   "outputs": [],
   "source": [
    "import os\n",
    "\n",
    "\n",
    "# Load environment variables from .env file\n",
    "load_dotenv()\n",
    "\n",
    "# Get the API key from environment variables\n",
    "typesense_api_key = os.getenv(\"TYPESENSE_API_KEY\")\n",
    "\n",
    "docsearch = Typesense.from_documents(\n",
    "    docs,\n",
    "    embeddings,\n",
    "    typesense_client_params = {\n",
    "\n",
    "        'host': 'birm815qe3acvnkgp-1.a1.typesense.net',\n",
    "        'port': '443',\n",
    "        'protocol': 'https',\n",
    "        'typesense_api_key': typesense_api_key,\n",
    "        'typesense_collection_name': 'lang-chain'\n",
    "    } \n",
    ")\n",
    "\n",
    "\n"
   ]
  },
  {
   "cell_type": "code",
   "execution_count": 33,
   "id": "d7bdd566",
   "metadata": {},
   "outputs": [
    {
     "name": "stdout",
     "output_type": "stream",
     "text": [
      "Artificial intelligence (AI) is the capability of computational systems to perform tasks typically associated with human intelligence, such as learning, reasoning, problem-solving, perception, and decision-making. It is a field of research in computer science that develops and studies methods and software that enable machines to perceive their environment and use learning and intelligence to take actions that maximize their chances of achieving defined goals.[1]\n"
     ]
    }
   ],
   "source": [
    "query = \"what is artificial intelligence\"\n",
    "found_docs = docsearch.similarity_search(query)\n",
    "print(found_docs[0].page_content)"
   ]
  },
  {
   "cell_type": "code",
   "execution_count": null,
   "id": "7fab51ce",
   "metadata": {},
   "outputs": [
    {
     "data": {
      "text/plain": [
       "VectorStoreRetriever(tags=['Typesense', 'HuggingFaceBgeEmbeddings'], vectorstore=<langchain_community.vectorstores.typesense.Typesense object at 0x307e4a2a0>, search_kwargs={})"
      ]
     },
     "execution_count": 34,
     "metadata": {},
     "output_type": "execute_result"
    }
   ],
   "source": [
    "# Retriver\n",
    "retriever = docsearch.as_retriever()\n",
    "retriever"
   ]
  },
  {
   "cell_type": "code",
   "execution_count": 35,
   "id": "7be64d00",
   "metadata": {},
   "outputs": [
    {
     "data": {
      "text/plain": [
       "Document(metadata={'source': '../data/test.txt'}, page_content='Artificial intelligence (AI) is the capability of computational systems to perform tasks typically associated with human intelligence, such as learning, reasoning, problem-solving, perception, and decision-making. It is a field of research in computer science that develops and studies methods and software that enable machines to perceive their environment and use learning and intelligence to take actions that maximize their chances of achieving defined goals.[1]')"
      ]
     },
     "execution_count": 35,
     "metadata": {},
     "output_type": "execute_result"
    }
   ],
   "source": [
    "query = \"what is artificial intelligence\"\n",
    "retriever.invoke(query)[0]"
   ]
  },
  {
   "cell_type": "code",
   "execution_count": null,
   "id": "fe1a4e1b",
   "metadata": {},
   "outputs": [],
   "source": []
  }
 ],
 "metadata": {
  "kernelspec": {
   "display_name": "building-rag-pipeline",
   "language": "python",
   "name": "python3"
  },
  "language_info": {
   "codemirror_mode": {
    "name": "ipython",
    "version": 3
   },
   "file_extension": ".py",
   "mimetype": "text/x-python",
   "name": "python",
   "nbconvert_exporter": "python",
   "pygments_lexer": "ipython3",
   "version": "3.12.11"
  }
 },
 "nbformat": 4,
 "nbformat_minor": 5
}
